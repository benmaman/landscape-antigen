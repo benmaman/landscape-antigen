{
 "cells": [
  {
   "cell_type": "markdown",
   "metadata": {},
   "source": [
    "# Antibody landscapes after influenza virus infection or vaccination\n",
    " in the next notbook ther is implemntation of Antibody landscapes after influenza virus infection or vaccination article by J. M. Fonville et al\n",
    " "
   ]
  },
  {
   "cell_type": "code",
   "execution_count": 2,
   "metadata": {},
   "outputs": [],
   "source": [
    "import pandas as pd\n",
    "from sklearn.preprocessing import MinMaxScaler\n",
    "from tools import *\n",
    "from matplotlib.lines import Line2D\n"
   ]
  },
  {
   "cell_type": "code",
   "execution_count": 3,
   "metadata": {},
   "outputs": [],
   "source": [
    "# ==== USER PARAMETERS ====\n",
    "\n",
    "SAMPLE = (11101, 'D-28 predose') # sample number of the data\n",
    "SAMPLE_2=   (11101, 'Follow up') #optional : when we want to compare 2 measurment of 2 patients or patient before and after\n",
    "GRID_SIZE = 200        # Grid resolution for plotting or interpolation\n",
    "A = 11              # Distance threshold to define a \"distant\" antigen\n",
    "CLOSE_NEIGH = 5     # Radius threshold for regression surface - points which far form this point will not be clacualted\n",
    "NORMALIZE = True       # Whether to normalize the X and Y coordinates\n",
    "SMOOTH_FACTOR =50    # Spline smoothing factor for the summary path\n",
    "OPTIMIZATION=False\n",
    "DATA_DIR='patients_bt_years.csv'\n",
    "FLUGEN=True\n",
    "SAVE_PATH=f'output/figures/patient_{SAMPLE[0]}_{SAMPLE[1]}/'"
   ]
  },
  {
   "cell_type": "markdown",
   "metadata": {},
   "source": [
    "### 1. Data processing"
   ]
  },
  {
   "cell_type": "markdown",
   "metadata": {},
   "source": [
    "### 1.1 Import Data\n"
   ]
  },
  {
   "cell_type": "code",
   "execution_count": null,
   "metadata": {},
   "outputs": [],
   "source": [
    "df=pd.read_excel(\"flugen_lilach/flugen_002_sera_IgA_for_Gal.xlsx\",index_col='ptid')\n",
    "df"
   ]
  },
  {
   "cell_type": "code",
   "execution_count": 5,
   "metadata": {},
   "outputs": [],
   "source": [
    "\n",
    "df_antigenic_map=pd.read_csv(\"antigentic_map.csv\")\n",
    "df_antigenic_map_by_gal=pd.read_csv(\"antigen_map/antigen_coordinates.csv\")\n",
    "df=pd.read_csv(DATA_DIR)\n",
    "df=df.iloc[:,2:]\n",
    "#fluegen\n",
    "if FLUGEN:\n",
    "    #data preprocessing\n",
    "    df=pd.read_excel(\"flugen_lilach/flugen_002_sera_IgA_for_Gal.xlsx\",index_col='ptid')\n",
    "    df=df.groupby(by=['ptid', 'timepoint']).mean(numeric_only=True)\n",
    "\n",
    "    hertz_titer=pd.read_csv(\"fluegen/list_of_identical_seqs.csv\").iloc[:-1,:]\n",
    "    rename_dict = dict(zip(hertz_titer['name'], hertz_titer['similiar_seq_name']))\n",
    "    df=df[list(rename_dict.keys())].rename(columns=rename_dict)\n",
    "\n"
   ]
  },
  {
   "cell_type": "code",
   "execution_count": null,
   "metadata": {},
   "outputs": [],
   "source": [
    "##  for each patient 3 grpah of d1-d28-followup\n",
    "# do it for placebo and m2sr\n",
    "#do it fo all patients\n",
    "df"
   ]
  },
  {
   "cell_type": "markdown",
   "metadata": {},
   "source": [
    "### 1.2 Pre-preocess Data\n",
    "\n",
    "1) To generate the antibody landscape, titers were converted onto a log scale : z= log2(titer/10)\n",
    "2) undetectable titer (\"<10\") are converted to 5\n",
    "3) for the regrssion model- data was normlized by MINMAX scaler by the x and y axis of the antigneic map\n"
   ]
  },
  {
   "cell_type": "code",
   "execution_count": null,
   "metadata": {},
   "outputs": [],
   "source": [
    "#preprocess- \n",
    "df=df.applymap(clean_titer)\n",
    "df=df.applymap(convert_titer)\n",
    "unique_clusters = df_antigenic_map['cluster'].unique()\n",
    "\n",
    "    \n",
    "\n",
    "#patient1 preprocess\n",
    "sample1=df.transpose()[SAMPLE]\n",
    "sample1=sample1.rename(\"log_titers\")\n",
    "sample1 = sample1.dropna()  # drop missing titers just in case\n",
    "\n",
    "\n",
    "# Merge coordinates and titers for a single ferret sample\n",
    "# Merge antigenic coordinates and titer data\n",
    "df_antigenic_map[\"color\"]=df_antigenic_map['cluster'].map(color_map)\n",
    "df_landscape = df_antigenic_map.merge(sample1, left_on='viruses', right_index=True)\n",
    "\n",
    "# scaler = MinMaxScaler()\n",
    "# df_landscape['AG coordinate 1']=scaler.fit_transform(df_landscape['AG coordinate 1'].values.reshape(-1, 1)).flatten()\n",
    "# df_landscape['AG coordinate 2']=scaler.fit_transform(df_landscape['AG coordinate 2'].values.reshape(-1, 1)).flatten()\n",
    "\n",
    "# Extract coordinates and colors\n",
    "X = df_landscape['AG coordinate 2'].values\n",
    "Y = df_landscape['AG coordinate 1'].values\n",
    "Z = df_landscape['log_titers'].values\n",
    "C = df_landscape['color']\n",
    "cluster_label1=df_landscape[\"cluster\"].values\n",
    "\n",
    "if SAMPLE_2:\n",
    "    #patient2 preprocess\n",
    "    sample2=df.transpose()[SAMPLE_2]\n",
    "    sample2=sample2.rename(\"log_titers\")\n",
    "    sample2 = sample2.dropna()  # drop missing titers just in case\n",
    "\n",
    "    #fliter only antigen which has shown in sample1\n",
    "    sample2 = sample2[sample2.index.intersection(sample1.index)]\n",
    "    \n",
    "    # Merge coordinates and titers for a single ferret sample\n",
    "    # Merge antigenic coordinates and titer data\n",
    "    df_landscape_2 = df_antigenic_map.merge(sample2, left_on='viruses', right_index=True)\n",
    "    df_landscape_2['color'] = df_landscape_2['cluster'].map(color_map)\n",
    "\n",
    "    # scaler = MinMaxScaler()\n",
    "    # df_landscape_2['AG coordinate 1']=scaler.fit_transform(df_landscape_2['AG coordinate 1'].values.reshape(-1, 1)).flatten()\n",
    "    # df_landscape_2['AG coordinate 2']=scaler.fit_transform(df_landscape_2['AG coordinate 2'].values.reshape(-1, 1)).flatten()\n",
    "\n",
    "    # Extract coordinates and colors\n",
    "    X_2 = df_landscape_2['AG coordinate 2'].values\n",
    "    Y_2 = df_landscape_2['AG coordinate 1'].values\n",
    "    Z_2 = df_landscape_2['log_titers'].values\n",
    "    C_2 = df_landscape_2['color']\n",
    "    cluster_label2=df_landscape_2[\"cluster\"].values"
   ]
  },
  {
   "cell_type": "markdown",
   "metadata": {},
   "source": [
    "### 2. Antigenic Map\n",
    "\n",
    "Antigenic cartography positions sera and viruses in a map based on their HI titrations such that distance between\n",
    "viruses represents their antigenic relationship"
   ]
  },
  {
   "cell_type": "code",
   "execution_count": null,
   "metadata": {},
   "outputs": [],
   "source": [
    "plot_antigenic_map(df_antigenic_map,color_map,unique_clusters)"
   ]
  },
  {
   "cell_type": "code",
   "execution_count": null,
   "metadata": {},
   "outputs": [],
   "source": [
    "\n",
    "# After your existing plotting code, get the current Axes:\n",
    "ax = plt.gca()\n",
    "\n",
    "# Build legend handles and labels\n",
    "handles = []\n",
    "labels  = []\n",
    "\n",
    "rename_dict_transpose = {v: k for k, v in rename_dict.items()}\n",
    "plot_legend=df_landscape[['viruses','color']]\n",
    "plot_legend[\"viruses\"]=plot_legend[\"viruses\"].apply(lambda x : rename_dict_transpose[x])\n",
    "for vid, color in zip(plot_legend['viruses'], plot_legend['color']):\n",
    "    display_name = vid\n",
    "    handles.append(Line2D(\n",
    "        [0], [0],\n",
    "        marker='o',\n",
    "        color='w',\n",
    "        markerfacecolor=color,\n",
    "        markersize=8\n",
    "    ))\n",
    "    labels.append(display_name)\n",
    "\n",
    "# Place the legend just outside the plot on the right\n",
    "ax.legend(\n",
    "    handles, labels,\n",
    "    title=\"Strains\",\n",
    "    loc='upper left',\n",
    "    bbox_to_anchor=(1.02, 1),\n",
    "    borderaxespad=0.,\n",
    "    frameon=False\n",
    ")\n",
    "\n",
    "plt.tight_layout()\n",
    "plt.show()"
   ]
  },
  {
   "cell_type": "markdown",
   "metadata": {},
   "source": [
    "### 3.Antibody Landscape\n"
   ]
  },
  {
   "cell_type": "markdown",
   "metadata": {},
   "source": [
    "#### 3.1: 3d Antibody Landscape: \n",
    "3D represntation of the titer for each antigen for each patient\n",
    "\n",
    "##### Sample 1"
   ]
  },
  {
   "cell_type": "code",
   "execution_count": null,
   "metadata": {},
   "outputs": [],
   "source": [
    "plot_3d_antibody(X,Y,Z,C,SAVE_PATH)"
   ]
  },
  {
   "cell_type": "markdown",
   "metadata": {},
   "source": [
    "##### Sample 2 (Optional)"
   ]
  },
  {
   "cell_type": "code",
   "execution_count": null,
   "metadata": {},
   "outputs": [],
   "source": [
    "plot_3d_antibody(X_2,Y_2,Z_2,C_2)"
   ]
  },
  {
   "cell_type": "markdown",
   "metadata": {},
   "source": [
    "### 3.2 Antibody summary path \n",
    "\n",
    "Here, we compute a path that passes through the different antigenic clusters. We then plot this path in a 2D visualization, where the X-axis represents the summary path and the Y-axis represents the Titer. A smoothing spline is applied to trace a curve that passes through the different antigenic clusters"
   ]
  },
  {
   "cell_type": "code",
   "execution_count": null,
   "metadata": {},
   "outputs": [],
   "source": [
    "unique_clusters"
   ]
  },
  {
   "cell_type": "code",
   "execution_count": null,
   "metadata": {},
   "outputs": [],
   "source": [
    "x_smooth,y_smooth,df_centroids=find_summary_path(df_antigenic_map,SMOOTH_FACTOR)"
   ]
  },
  {
   "cell_type": "markdown",
   "metadata": {},
   "source": [
    "### Sample 2 (Optional)"
   ]
  },
  {
   "cell_type": "code",
   "execution_count": null,
   "metadata": {},
   "outputs": [],
   "source": [
    "x_smooth2,y_smooth2,df_centroids2=find_summary_path(df_antigenic_map,SMOOTH_FACTOR)"
   ]
  },
  {
   "cell_type": "markdown",
   "metadata": {},
   "source": [
    "## 3.3  Antibody Surface\n",
    "\n",
    "\n",
    "The algorithm for generating the 3D antibody surface map is based on locally weighted linear regression. The main steps are: <br>\n",
    "\n",
    "\t1.\tInitialize the Surface Grid  \n",
    "\n",
    "Create a 2D grid of size N × N, where N is a hyperparameter called GRID_SIZE. <br>\n",
    "\n",
    "\t2.\tCompute Antigenic Distances\n",
    "\n",
    "For each position on the surface, compute the Euclidean distance to each antigen:\n",
    "$$\n",
    "a_{ij} = \\sqrt{(x_j - x_i)^2 + (y_j - y_i)^2}\n",
    "$$\n",
    "If a distance exceeds a threshold value A, its weight is set to zero. Otherwise, use the tricubic weighting function:\n",
    "$$\n",
    "w_{ij} =\n",
    "\\begin{cases}\n",
    "\\left(1 - \\left(\\frac{a_{ij}}{A}\\right)^3\\right)^3 & \\text{if } a_{ij} \\leq A \\\n",
    "0 & \\text{if } a_{ij} > A\n",
    "\\end{cases}\n",
    "$$\n",
    "\t3.\tApply Weighted Linear Regression\n",
    "At each surface position p_j, perform a locally-weighted linear regression using the titers z_i and coordinates x_i, y_i. The regression is defined as:\n",
    "$$\n",
    "z_i = c_j + x_i y_i \\beta_j + \\epsilon_i\n",
    "$$\n",
    "where c_j and \\beta_j are regression coefficients specific to each location, optimized by minimizing the weighted sum of squared errors:\n",
    "$$\n",
    "S = \\sum_{i=1}^{n} w_{ij} \\cdot \\epsilon_i^2\n",
    "$$\n",
    "\t4.\tPredict Titer Values\n",
    "The predicted titer for each surface position is computed as:\n",
    "$$\n",
    "\\hat{z}_j = c_j + x_j y_j \\beta_j\n",
    "$$\n",
    "\n",
    "Each point on the 3D antibody landscape is defined by three coordinates:\n",
    "\n",
    "- **\\( xi \\)**: the x-coordinate on the antigenic map  \n",
    "- **\\( yi \\)**: the y-coordinate on the antigenic map  \n",
    "- **\\( zi \\)**: the log-transformed HI titer, representing antibody strength"
   ]
  },
  {
   "cell_type": "markdown",
   "metadata": {},
   "source": [
    "#### Sample 1 "
   ]
  },
  {
   "cell_type": "code",
   "execution_count": null,
   "metadata": {},
   "outputs": [],
   "source": [
    "x_range,y_range,landscape_z,predicted_z =compute_surface_regression(X,Y,Z,GRID_SIZE,A,CLOSE_NEIGH,cluster_label1,unique_clusters,OPTIMIZATION)\n"
   ]
  },
  {
   "cell_type": "code",
   "execution_count": null,
   "metadata": {},
   "outputs": [],
   "source": [
    "landscape_z"
   ]
  },
  {
   "cell_type": "code",
   "execution_count": null,
   "metadata": {},
   "outputs": [],
   "source": [
    "masked_z,x_path_valid,y_path_valid,z_path_valid=plot3d_antibody_surface(X,Y,Z,C,GRID_SIZE,landscape_z,x_range,y_range,x_smooth,y_smooth,unique_clusters,cluster_label1)"
   ]
  },
  {
   "cell_type": "markdown",
   "metadata": {},
   "source": [
    "#### Patient 2 (Optional)"
   ]
  },
  {
   "cell_type": "code",
   "execution_count": null,
   "metadata": {},
   "outputs": [],
   "source": [
    "X_2"
   ]
  },
  {
   "cell_type": "code",
   "execution_count": null,
   "metadata": {},
   "outputs": [],
   "source": [
    "x_range,y_range,landscape_z2,predicted_z2 =compute_surface_regression(X_2,Y_2,Z_2,GRID_SIZE,A,CLOSE_NEIGH,cluster_label2,unique_clusters,OPTIMIZATION)\n"
   ]
  },
  {
   "cell_type": "code",
   "execution_count": null,
   "metadata": {},
   "outputs": [],
   "source": [
    "masked_z2,x2_path_valid,y2_path_valid,z2_path_valid=plot3d_antibody_surface(X_2,Y_2,Z_2,C,GRID_SIZE,landscape_z2,x_range,y_range,x_smooth2,y_smooth2,unique_clusters,cluster_label2)"
   ]
  },
  {
   "cell_type": "markdown",
   "metadata": {},
   "source": [
    "### 4. 2D antibody landscape"
   ]
  },
  {
   "cell_type": "markdown",
   "metadata": {},
   "source": [
    "#### Patient 1"
   ]
  },
  {
   "cell_type": "code",
   "execution_count": null,
   "metadata": {},
   "outputs": [],
   "source": [
    "plot_2d_landscape(x_path_valid,y_path_valid,z_path_valid,df_landscape,weight=0.9,y_lim=10,save_path=SAVE_PATH)"
   ]
  },
  {
   "cell_type": "markdown",
   "metadata": {},
   "source": [
    "#### Patinet 2 (Optional)"
   ]
  },
  {
   "cell_type": "code",
   "execution_count": null,
   "metadata": {},
   "outputs": [],
   "source": [
    "plot_2d_landscape(x2_path_valid,y2_path_valid,z2_path_valid,df_landscape_2,weight=0.9,y_lim=10)"
   ]
  },
  {
   "cell_type": "markdown",
   "metadata": {},
   "source": [
    "#### Compate patients"
   ]
  },
  {
   "cell_type": "code",
   "execution_count": 56,
   "metadata": {},
   "outputs": [],
   "source": []
  },
  {
   "cell_type": "code",
   "execution_count": null,
   "metadata": {},
   "outputs": [],
   "source": [
    "plot_ema_smooth_landscape_with_clusters(x_path_valid, y_path_valid, z_path_valid, z2_path_valid, df_landscape,color_map=color_map ,label_pre=SAMPLE[1], label_post=SAMPLE_2[1],y_lim=10,save_path=SAVE_PATH)"
   ]
  },
  {
   "cell_type": "code",
   "execution_count": null,
   "metadata": {},
   "outputs": [],
   "source": [
    "df_landscape"
   ]
  },
  {
   "cell_type": "markdown",
   "metadata": {},
   "source": []
  },
  {
   "cell_type": "code",
   "execution_count": null,
   "metadata": {},
   "outputs": [],
   "source": [
    "df_landscape_2"
   ]
  },
  {
   "cell_type": "code",
   "execution_count": null,
   "metadata": {},
   "outputs": [],
   "source": []
  },
  {
   "cell_type": "code",
   "execution_count": null,
   "metadata": {},
   "outputs": [],
   "source": [
    "df.index.get_level_values(0).unique()"
   ]
  },
  {
   "cell_type": "code",
   "execution_count": null,
   "metadata": {},
   "outputs": [],
   "source": [
    "df"
   ]
  },
  {
   "cell_type": "code",
   "execution_count": null,
   "metadata": {},
   "outputs": [],
   "source": [
    "for ptid in df.index.get_level_values(0).unique():\n",
    "\n",
    "\n",
    "    try:\n",
    "        #define parameters\n",
    "        SAMPLE = (ptid, 'D-28 predose') # sample number of the data\n",
    "        SAMPLE_2=   (ptid, 'D1 predose') #optional : when we want to compare 2 measurment of 2 patients or patient before and after\n",
    "        GRID_SIZE = 200        # Grid resolution for plotting or interpolation\n",
    "        A = 11              # Distance threshold to define a \"distant\" antigen\n",
    "        CLOSE_NEIGH = 5     # Radius threshold for regression surface - points which far form this point will not be clacualted\n",
    "        NORMALIZE = True       # Whether to normalize the X and Y coordinates\n",
    "        SMOOTH_FACTOR =50    # Spline smoothing factor for the summary path\n",
    "        OPTIMIZATION=False\n",
    "        DATA_DIR='patients_bt_years.csv'\n",
    "        FLUGEN=True\n",
    "        SAVE_PATH=f'output/figures/patient_{SAMPLE[0]}_{SAMPLE[1]}/'\n",
    "\n",
    "        \n",
    "        #preprocess- \n",
    "\n",
    "\n",
    "        #patient1 preprocess\n",
    "        sample1=df.transpose()[SAMPLE]\n",
    "        sample1=sample1.rename(\"log_titers\")\n",
    "        sample1 = sample1.dropna()  # drop missing titers just in case\n",
    "\n",
    "\n",
    "        # Merge coordinates and titers for a single ferret sample\n",
    "        # Merge antigenic coordinates and titer data\n",
    "        df_antigenic_map[\"color\"]=df_antigenic_map['cluster'].map(color_map)\n",
    "        df_landscape = df_antigenic_map.merge(sample1, left_on='viruses', right_index=True)\n",
    "\n",
    "        # scaler = MinMaxScaler()\n",
    "        # df_landscape['AG coordinate 1']=scaler.fit_transform(df_landscape['AG coordinate 1'].values.reshape(-1, 1)).flatten()\n",
    "        # df_landscape['AG coordinate 2']=scaler.fit_transform(df_landscape['AG coordinate 2'].values.reshape(-1, 1)).flatten()\n",
    "\n",
    "        # Extract coordinates and colors\n",
    "        X = df_landscape['AG coordinate 2'].values\n",
    "        Y = df_landscape['AG coordinate 1'].values\n",
    "        Z = df_landscape['log_titers'].values\n",
    "        C = df_landscape['color']\n",
    "        cluster_label1=df_landscape[\"cluster\"].values\n",
    "\n",
    "        if SAMPLE_2:\n",
    "            #patient2 preprocess\n",
    "            sample2=df.transpose()[SAMPLE_2]\n",
    "            sample2=sample2.rename(\"log_titers\")\n",
    "            sample2 = sample2.dropna()  # drop missing titers just in case\n",
    "\n",
    "            #fliter only antigen which has shown in sample1\n",
    "            sample2 = sample2[sample2.index.intersection(sample1.index)]\n",
    "            \n",
    "            # Merge coordinates and titers for a single ferret sample\n",
    "            # Merge antigenic coordinates and titer data\n",
    "            df_landscape_2 = df_antigenic_map.merge(sample2, left_on='viruses', right_index=True)\n",
    "            df_landscape_2['color'] = df_landscape_2['cluster'].map(color_map)\n",
    "\n",
    "            # scaler = MinMaxScaler()\n",
    "            # df_landscape_2['AG coordinate 1']=scaler.fit_transform(df_landscape_2['AG coordinate 1'].values.reshape(-1, 1)).flatten()\n",
    "            # df_landscape_2['AG coordinate 2']=scaler.fit_transform(df_landscape_2['AG coordinate 2'].values.reshape(-1, 1)).flatten()\n",
    "\n",
    "            # Extract coordinates and colors\n",
    "            X_2 = df_landscape_2['AG coordinate 2'].values\n",
    "            Y_2 = df_landscape_2['AG coordinate 1'].values\n",
    "            Z_2 = df_landscape_2['log_titers'].values\n",
    "            C_2 = df_landscape_2['color']\n",
    "            cluster_label2=df_landscape_2[\"cluster\"].values\n",
    "\n",
    "\n",
    "            #run code for all data\n",
    "            plot_3d_antibody(X,Y,Z,C,SAVE_PATH)\n",
    "            plot_3d_antibody(X_2,Y_2,Z_2,C_2,SAVE_PATH,SAMPLE2=True)\n",
    "            x_smooth,y_smooth,df_centroids=find_summary_path(df_antigenic_map,SMOOTH_FACTOR)\n",
    "            x_smooth2,y_smooth2,df_centroids2=find_summary_path(df_antigenic_map,SMOOTH_FACTOR)\n",
    "            \n",
    "            #logistic regression for 1\n",
    "            x_range,y_range,landscape_z,predicted_z =compute_surface_regression(X,Y,Z,GRID_SIZE,A,CLOSE_NEIGH,cluster_label1,unique_clusters,OPTIMIZATION)\n",
    "            masked_z,x_path_valid,y_path_valid,z_path_valid=plot3d_antibody_surface(X,Y,Z,C,GRID_SIZE,landscape_z,x_range,y_range,x_smooth,y_smooth,unique_clusters,cluster_label1)\n",
    "\n",
    "\n",
    "            #logistic regression for 2\n",
    "            x_range,y_range,landscape_z2,predicted_z2 =compute_surface_regression(X_2,Y_2,Z_2,GRID_SIZE,A,CLOSE_NEIGH,cluster_label2,unique_clusters,OPTIMIZATION)\n",
    "            masked_z2,x2_path_valid,y2_path_valid,z2_path_valid=plot3d_antibody_surface(X_2,Y_2,Z_2,C,GRID_SIZE,landscape_z2,x_range,y_range,x_smooth2,y_smooth2,unique_clusters,cluster_label2)\n",
    "\n",
    "\n",
    "            #plot \n",
    "            plot_2d_landscape(x_path_valid,y_path_valid,z_path_valid,df_landscape,weight=0.9,y_lim=10,save_path=SAVE_PATH)\n",
    "            plot_ema_smooth_landscape_with_clusters(x_path_valid, y_path_valid, z_path_valid, z2_path_valid, df_landscape,color_map=color_map ,label_pre=SAMPLE[1], label_post=SAMPLE_2[1],y_lim=10,save_path=SAVE_PATH)\n",
    "    except Exception as e:\n",
    "        print(f\"Error processing patient {ptid}: {e}\")\n",
    "        continue"
   ]
  },
  {
   "cell_type": "code",
   "execution_count": null,
   "metadata": {},
   "outputs": [],
   "source": [
    "f"
   ]
  }
 ],
 "metadata": {
  "kernelspec": {
   "display_name": "base",
   "language": "python",
   "name": "python3"
  },
  "language_info": {
   "codemirror_mode": {
    "name": "ipython",
    "version": 3
   },
   "file_extension": ".py",
   "mimetype": "text/x-python",
   "name": "python",
   "nbconvert_exporter": "python",
   "pygments_lexer": "ipython3",
   "version": "3.12.2"
  }
 },
 "nbformat": 4,
 "nbformat_minor": 2
}
